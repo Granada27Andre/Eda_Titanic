{
 "cells": [
  {
   "cell_type": "code",
   "execution_count": 1,
   "id": "c34effb3-df82-4f67-aa2d-f5b57c61e3c7",
   "metadata": {
    "tags": []
   },
   "outputs": [],
   "source": [
    "import pandas as pd \n",
    "import numpy as np \n",
    "import seaborn as sns\n",
    "import re\n",
    "import matplotlib.pyplot as plt\n",
    "plt.rcParams[\"figure.figsize\"] = (16,9)\n",
    "from sklearn.model_selection import train_test_split\n",
    "from sklearn.linear_model import LogisticRegression\n",
    "from sklearn.metrics import accuracy_score, confusion_matrix, classification_report\n",
    "from sklearn.preprocessing import StandardScaler"
   ]
  },
  {
   "cell_type": "markdown",
   "id": "741c42d8-58f5-44a0-b06a-66ffe3829a0a",
   "metadata": {
    "tags": []
   },
   "source": [
    "## Entender el Problema"
   ]
  },
  {
   "cell_type": "markdown",
   "id": "917129b2-e3a0-4d55-9a6f-93e211da11cd",
   "metadata": {},
   "source": [
    "¿Quién sobrevivió al accidente del Titanic?"
   ]
  },
  {
   "cell_type": "markdown",
   "id": "3b621430-4c05-4404-aca2-cd90069b4a09",
   "metadata": {
    "tags": []
   },
   "source": [
    "Tener una idea general de nuestro conjunto de datos"
   ]
  },
  {
   "cell_type": "code",
   "execution_count": 5,
   "id": "6207f2bc-5687-4f05-83a5-69687be77765",
   "metadata": {
    "tags": []
   },
   "outputs": [],
   "source": [
    "# importar nuestro Dataset\n",
    "df = pd.read_csv(\"titanic.csv\")"
   ]
  },
  {
   "cell_type": "code",
   "execution_count": 7,
   "id": "4b594bd4-36ff-44e8-a60f-355a7302787b",
   "metadata": {
    "tags": []
   },
   "outputs": [
    {
     "data": {
      "text/plain": [
       "(891, 12)"
      ]
     },
     "execution_count": 7,
     "metadata": {},
     "output_type": "execute_result"
    }
   ],
   "source": [
    "# ver las filas y columnas\n",
    "df.shape"
   ]
  },
  {
   "cell_type": "code",
   "execution_count": 9,
   "id": "1de1c2fd-a5ca-41be-99a9-0966d8622430",
   "metadata": {
    "tags": []
   },
   "outputs": [
    {
     "data": {
      "text/html": [
       "<div>\n",
       "<style scoped>\n",
       "    .dataframe tbody tr th:only-of-type {\n",
       "        vertical-align: middle;\n",
       "    }\n",
       "\n",
       "    .dataframe tbody tr th {\n",
       "        vertical-align: top;\n",
       "    }\n",
       "\n",
       "    .dataframe thead th {\n",
       "        text-align: right;\n",
       "    }\n",
       "</style>\n",
       "<table border=\"1\" class=\"dataframe\">\n",
       "  <thead>\n",
       "    <tr style=\"text-align: right;\">\n",
       "      <th></th>\n",
       "      <th>PassengerId</th>\n",
       "      <th>Survived</th>\n",
       "      <th>Pclass</th>\n",
       "      <th>Name</th>\n",
       "      <th>Sex</th>\n",
       "      <th>Age</th>\n",
       "      <th>SibSp</th>\n",
       "      <th>Parch</th>\n",
       "      <th>Ticket</th>\n",
       "      <th>Fare</th>\n",
       "      <th>Cabin</th>\n",
       "      <th>Embarked</th>\n",
       "    </tr>\n",
       "  </thead>\n",
       "  <tbody>\n",
       "    <tr>\n",
       "      <th>0</th>\n",
       "      <td>1</td>\n",
       "      <td>0</td>\n",
       "      <td>3</td>\n",
       "      <td>Braund, Mr. Owen Harris</td>\n",
       "      <td>male</td>\n",
       "      <td>22.0</td>\n",
       "      <td>1</td>\n",
       "      <td>0</td>\n",
       "      <td>A/5 21171</td>\n",
       "      <td>7.2500</td>\n",
       "      <td>NaN</td>\n",
       "      <td>S</td>\n",
       "    </tr>\n",
       "    <tr>\n",
       "      <th>1</th>\n",
       "      <td>2</td>\n",
       "      <td>1</td>\n",
       "      <td>1</td>\n",
       "      <td>Cumings, Mrs. John Bradley (Florence Briggs Th...</td>\n",
       "      <td>female</td>\n",
       "      <td>38.0</td>\n",
       "      <td>1</td>\n",
       "      <td>0</td>\n",
       "      <td>PC 17599</td>\n",
       "      <td>71.2833</td>\n",
       "      <td>C85</td>\n",
       "      <td>C</td>\n",
       "    </tr>\n",
       "    <tr>\n",
       "      <th>2</th>\n",
       "      <td>3</td>\n",
       "      <td>1</td>\n",
       "      <td>3</td>\n",
       "      <td>Heikkinen, Miss. Laina</td>\n",
       "      <td>female</td>\n",
       "      <td>26.0</td>\n",
       "      <td>0</td>\n",
       "      <td>0</td>\n",
       "      <td>STON/O2. 3101282</td>\n",
       "      <td>7.9250</td>\n",
       "      <td>NaN</td>\n",
       "      <td>S</td>\n",
       "    </tr>\n",
       "    <tr>\n",
       "      <th>3</th>\n",
       "      <td>4</td>\n",
       "      <td>1</td>\n",
       "      <td>1</td>\n",
       "      <td>Futrelle, Mrs. Jacques Heath (Lily May Peel)</td>\n",
       "      <td>female</td>\n",
       "      <td>35.0</td>\n",
       "      <td>1</td>\n",
       "      <td>0</td>\n",
       "      <td>113803</td>\n",
       "      <td>53.1000</td>\n",
       "      <td>C123</td>\n",
       "      <td>S</td>\n",
       "    </tr>\n",
       "    <tr>\n",
       "      <th>4</th>\n",
       "      <td>5</td>\n",
       "      <td>0</td>\n",
       "      <td>3</td>\n",
       "      <td>Allen, Mr. William Henry</td>\n",
       "      <td>male</td>\n",
       "      <td>35.0</td>\n",
       "      <td>0</td>\n",
       "      <td>0</td>\n",
       "      <td>373450</td>\n",
       "      <td>8.0500</td>\n",
       "      <td>NaN</td>\n",
       "      <td>S</td>\n",
       "    </tr>\n",
       "  </tbody>\n",
       "</table>\n",
       "</div>"
      ],
      "text/plain": [
       "   PassengerId  Survived  Pclass  \\\n",
       "0            1         0       3   \n",
       "1            2         1       1   \n",
       "2            3         1       3   \n",
       "3            4         1       1   \n",
       "4            5         0       3   \n",
       "\n",
       "                                                Name     Sex   Age  SibSp  \\\n",
       "0                            Braund, Mr. Owen Harris    male  22.0      1   \n",
       "1  Cumings, Mrs. John Bradley (Florence Briggs Th...  female  38.0      1   \n",
       "2                             Heikkinen, Miss. Laina  female  26.0      0   \n",
       "3       Futrelle, Mrs. Jacques Heath (Lily May Peel)  female  35.0      1   \n",
       "4                           Allen, Mr. William Henry    male  35.0      0   \n",
       "\n",
       "   Parch            Ticket     Fare Cabin Embarked  \n",
       "0      0         A/5 21171   7.2500   NaN        S  \n",
       "1      0          PC 17599  71.2833   C85        C  \n",
       "2      0  STON/O2. 3101282   7.9250   NaN        S  \n",
       "3      0            113803  53.1000  C123        S  \n",
       "4      0            373450   8.0500   NaN        S  "
      ]
     },
     "execution_count": 9,
     "metadata": {},
     "output_type": "execute_result"
    }
   ],
   "source": [
    "# para tener alguna idea de dataset nos dejamos mostrar las primeras  filas\n",
    "df.head(5)"
   ]
  },
  {
   "cell_type": "code",
   "execution_count": 11,
   "id": "13dcb13c-1df0-44c5-ad04-fc647df608a6",
   "metadata": {
    "tags": []
   },
   "outputs": [
    {
     "name": "stdout",
     "output_type": "stream",
     "text": [
      "<class 'pandas.core.frame.DataFrame'>\n",
      "RangeIndex: 891 entries, 0 to 890\n",
      "Data columns (total 12 columns):\n",
      " #   Column       Non-Null Count  Dtype  \n",
      "---  ------       --------------  -----  \n",
      " 0   PassengerId  891 non-null    int64  \n",
      " 1   Survived     891 non-null    int64  \n",
      " 2   Pclass       891 non-null    int64  \n",
      " 3   Name         891 non-null    object \n",
      " 4   Sex          891 non-null    object \n",
      " 5   Age          714 non-null    float64\n",
      " 6   SibSp        891 non-null    int64  \n",
      " 7   Parch        891 non-null    int64  \n",
      " 8   Ticket       891 non-null    object \n",
      " 9   Fare         891 non-null    float64\n",
      " 10  Cabin        204 non-null    object \n",
      " 11  Embarked     889 non-null    object \n",
      "dtypes: float64(2), int64(5), object(5)\n",
      "memory usage: 83.7+ KB\n"
     ]
    }
   ],
   "source": [
    "# vamos a ver un resumen de las columnas: tipo, non_null, nombre de las columnas, indice\n",
    "df.info()"
   ]
  },
  {
   "cell_type": "code",
   "execution_count": 13,
   "id": "b971fe92-61c8-4bf2-94bc-a77ca1a6c535",
   "metadata": {
    "tags": []
   },
   "outputs": [
    {
     "data": {
      "text/plain": [
       "PassengerId      0\n",
       "Survived         0\n",
       "Pclass           0\n",
       "Name             0\n",
       "Sex              0\n",
       "Age            177\n",
       "SibSp            0\n",
       "Parch            0\n",
       "Ticket           0\n",
       "Fare             0\n",
       "Cabin          687\n",
       "Embarked         2\n",
       "dtype: int64"
      ]
     },
     "execution_count": 13,
     "metadata": {},
     "output_type": "execute_result"
    }
   ],
   "source": [
    "#Vamos mirar cuantos valores nulos hay en cada columna y pensamos sobre su importancia, y si lo reemplazmos los 0 o eleminamos las columnas\n",
    "df.isnull().sum()"
   ]
  },
  {
   "cell_type": "markdown",
   "id": "705384d2-ad0a-4544-b130-eab2ba72e9ac",
   "metadata": {},
   "source": [
    "Al observar detenidamente, parece que solo hay 2 valores nulos en 'Embarked'. Aun así, vamos a eliminar toda la columna, ya que no nos ofrece ningún dato de interés. 'Cabin' tiene muchos valores nulos, y además, el número o nombre de la cabina no aporta ningún valor significativo, por lo que también la eliminamos. Seguramente existe una correlación entre la supervivencia y el lugar de embarque, la cabina y la clase, pero la más fácil y efectiva para esta correlación, en mi opinión, es tomar 'Pclass'. Por lo tanto, vamos a eliminar 'Cabin', 'Embarked' y 'Ticket'. También importa para sobrevivir en qué lugar estaba cada uno en la hora del accidente."
   ]
  },
  {
   "cell_type": "code",
   "execution_count": 16,
   "id": "af8bcbe1-b1c6-4123-a0e7-6abeecc24a25",
   "metadata": {
    "tags": []
   },
   "outputs": [],
   "source": [
    "# axis=1 borramos la columna \n",
    "# inplace=True lo actualizmos el Dataframe df \n",
    "df.drop(['Embarked', 'Cabin', 'Ticket'], axis=1, inplace=True)\n"
   ]
  },
  {
   "cell_type": "code",
   "execution_count": 18,
   "id": "3a48e5a5-243b-4ff3-8b09-bd6a2b1ea3fd",
   "metadata": {
    "tags": []
   },
   "outputs": [
    {
     "name": "stdout",
     "output_type": "stream",
     "text": [
      "<class 'pandas.core.frame.DataFrame'>\n",
      "RangeIndex: 891 entries, 0 to 890\n",
      "Data columns (total 9 columns):\n",
      " #   Column       Non-Null Count  Dtype  \n",
      "---  ------       --------------  -----  \n",
      " 0   PassengerId  891 non-null    int64  \n",
      " 1   Survived     891 non-null    int64  \n",
      " 2   Pclass       891 non-null    int64  \n",
      " 3   Name         891 non-null    object \n",
      " 4   Sex          891 non-null    object \n",
      " 5   Age          714 non-null    float64\n",
      " 6   SibSp        891 non-null    int64  \n",
      " 7   Parch        891 non-null    int64  \n",
      " 8   Fare         891 non-null    float64\n",
      "dtypes: float64(2), int64(5), object(2)\n",
      "memory usage: 62.8+ KB\n"
     ]
    }
   ],
   "source": [
    "df.info()"
   ]
  },
  {
   "cell_type": "code",
   "execution_count": 20,
   "id": "9158d794-db39-449c-b447-993158ef8c0b",
   "metadata": {
    "tags": []
   },
   "outputs": [
    {
     "name": "stdout",
     "output_type": "stream",
     "text": [
      "Vamos a rellenar 177 valores en age que seria un: 24.79 %\n",
      "El Valor median que se ha cogido para implenmetar es: 28.0 años\n"
     ]
    }
   ],
   "source": [
    "# Cantidad de \"0\" en 'Age' \n",
    "null_count = df['Age'].isnull().sum()\n",
    "\n",
    "# Total de valores de 'Age'\n",
    "total_count = df['Age'].count()\n",
    "\n",
    "# porecentajae que vamos a rellenar\n",
    "percent_filled = round((null_count / total_count) * 100, 2)\n",
    "\n",
    "print(f\"Vamos a rellenar {null_count} valores en age que seria un:\", percent_filled, \"%\")\n",
    "\n",
    "# Median de la edad\n",
    "median_age = df['Age'].median()\n",
    "\n",
    "# poner median_age in los valores que null \n",
    "df['Age'].fillna(median_age, inplace=True)\n",
    "print(\"El Valor median que se ha cogido para implenmetar es:\", median_age, \"años\")\n",
    "\n",
    "\n",
    "# Crea una nueva columna 'Age_without' copiando los valores de 'Age'\n",
    "#df['Age_without'] = df['Age']\n",
    "# Rellena los valores NaN en 'Age_without' con la mediana de 'Age'\n",
    "#df['Age_without'].fillna(median_age, inplace=True)"
   ]
  },
  {
   "cell_type": "markdown",
   "id": "872728be-b45a-4a5d-b24d-1a4316d55213",
   "metadata": {},
   "source": [
    "También hemos probado dejar los 0 en 'Age' y hemos creado otra columna con los 0, pero los resultados no cambiaron mucho en el mapa de calor y en el Describe() cambió solo dos años más o menos. Lo hemos dado por bueno y vamos a rellenarlo."
   ]
  },
  {
   "cell_type": "code",
   "execution_count": 23,
   "id": "fbc2c990-cd9d-48c0-ad1b-e0a6035acf1b",
   "metadata": {
    "tags": []
   },
   "outputs": [
    {
     "name": "stdout",
     "output_type": "stream",
     "text": [
      "Cantidad de 0 en 'Fare': 15\n"
     ]
    }
   ],
   "source": [
    "\n",
    "num_fare_zero = (df['Fare'] == 0).sum()\n",
    "print(\"Cantidad de 0 en 'Fare':\", num_fare_zero)\n",
    "#df = df[df['Fare'] != 0]\n",
    "#num_fare_zero = (df['Fare'] == 0).sum()\n"
   ]
  },
  {
   "cell_type": "markdown",
   "id": "025722ff-c44f-4486-904b-3d6a3c5ded48",
   "metadata": {},
   "source": [
    "Hemos visto que hay 15 entradas de 0 en 'Fare'. Dado que creemos y hemos visto que influye bastante, vamos a rellenarlas con el valor mediano."
   ]
  },
  {
   "cell_type": "code",
   "execution_count": 26,
   "id": "80255405-fed7-4a3c-863f-3d14c9fd4e67",
   "metadata": {
    "tags": []
   },
   "outputs": [
    {
     "name": "stdout",
     "output_type": "stream",
     "text": [
      "Hemos encontrado 15 valores de 'Fare' que son 0, lo que representa un 1.68%.\n",
      "El Valor median que se ha cogido para implenmetar es: 14.4542 fare\n"
     ]
    }
   ],
   "source": [
    "# Cantidad de \"0\" en 'Fare' \n",
    "zero_count = (df['Fare'] == 0).sum()\n",
    "\n",
    "# Total de valores de 'Fare'\n",
    "total_count = df['Fare'].count()\n",
    "\n",
    "# Porcentaje que representan los valores 0\n",
    "percent_zero = round((zero_count / total_count) * 100, 2)\n",
    "\n",
    "print(f\"Hemos encontrado {zero_count} valores de 'Fare' que son 0, lo que representa un {percent_zero}%.\")\n",
    "\n",
    "# Mediana del 'Fare'\n",
    "median_fare = df['Fare'].median()\n",
    "\n",
    "# Reemplazar los valores 0 en 'Fare' con la mediana\n",
    "df.loc[df['Fare'] == 0, 'Fare'] = median_fare\n",
    "\n",
    "# Median de la edad\n",
    "median_fare = df['Fare'].median()\n",
    "\n",
    "# poner median_fare in los valores que null \n",
    "df['Fare'].fillna(median_fare, inplace=True)\n",
    "print(\"El Valor median que se ha cogido para implenmetar es:\", median_fare, \"fare\")\n"
   ]
  },
  {
   "cell_type": "code",
   "execution_count": 28,
   "id": "6ffbcc68-5576-4943-aba4-4a0d31ea6544",
   "metadata": {
    "tags": []
   },
   "outputs": [
    {
     "data": {
      "text/html": [
       "<div>\n",
       "<style scoped>\n",
       "    .dataframe tbody tr th:only-of-type {\n",
       "        vertical-align: middle;\n",
       "    }\n",
       "\n",
       "    .dataframe tbody tr th {\n",
       "        vertical-align: top;\n",
       "    }\n",
       "\n",
       "    .dataframe thead th {\n",
       "        text-align: right;\n",
       "    }\n",
       "</style>\n",
       "<table border=\"1\" class=\"dataframe\">\n",
       "  <thead>\n",
       "    <tr style=\"text-align: right;\">\n",
       "      <th></th>\n",
       "      <th>PassengerId</th>\n",
       "      <th>Survived</th>\n",
       "      <th>Pclass</th>\n",
       "      <th>Name</th>\n",
       "      <th>Sex</th>\n",
       "      <th>Age</th>\n",
       "      <th>SibSp</th>\n",
       "      <th>Parch</th>\n",
       "      <th>Fare</th>\n",
       "    </tr>\n",
       "  </thead>\n",
       "  <tbody>\n",
       "    <tr>\n",
       "      <th>886</th>\n",
       "      <td>887</td>\n",
       "      <td>0</td>\n",
       "      <td>2</td>\n",
       "      <td>Montvila, Rev. Juozas</td>\n",
       "      <td>male</td>\n",
       "      <td>27.0</td>\n",
       "      <td>0</td>\n",
       "      <td>0</td>\n",
       "      <td>13.00</td>\n",
       "    </tr>\n",
       "    <tr>\n",
       "      <th>887</th>\n",
       "      <td>888</td>\n",
       "      <td>1</td>\n",
       "      <td>1</td>\n",
       "      <td>Graham, Miss. Margaret Edith</td>\n",
       "      <td>female</td>\n",
       "      <td>19.0</td>\n",
       "      <td>0</td>\n",
       "      <td>0</td>\n",
       "      <td>30.00</td>\n",
       "    </tr>\n",
       "    <tr>\n",
       "      <th>888</th>\n",
       "      <td>889</td>\n",
       "      <td>0</td>\n",
       "      <td>3</td>\n",
       "      <td>Johnston, Miss. Catherine Helen \"Carrie\"</td>\n",
       "      <td>female</td>\n",
       "      <td>28.0</td>\n",
       "      <td>1</td>\n",
       "      <td>2</td>\n",
       "      <td>23.45</td>\n",
       "    </tr>\n",
       "    <tr>\n",
       "      <th>889</th>\n",
       "      <td>890</td>\n",
       "      <td>1</td>\n",
       "      <td>1</td>\n",
       "      <td>Behr, Mr. Karl Howell</td>\n",
       "      <td>male</td>\n",
       "      <td>26.0</td>\n",
       "      <td>0</td>\n",
       "      <td>0</td>\n",
       "      <td>30.00</td>\n",
       "    </tr>\n",
       "    <tr>\n",
       "      <th>890</th>\n",
       "      <td>891</td>\n",
       "      <td>0</td>\n",
       "      <td>3</td>\n",
       "      <td>Dooley, Mr. Patrick</td>\n",
       "      <td>male</td>\n",
       "      <td>32.0</td>\n",
       "      <td>0</td>\n",
       "      <td>0</td>\n",
       "      <td>7.75</td>\n",
       "    </tr>\n",
       "  </tbody>\n",
       "</table>\n",
       "</div>"
      ],
      "text/plain": [
       "     PassengerId  Survived  Pclass                                      Name  \\\n",
       "886          887         0       2                     Montvila, Rev. Juozas   \n",
       "887          888         1       1              Graham, Miss. Margaret Edith   \n",
       "888          889         0       3  Johnston, Miss. Catherine Helen \"Carrie\"   \n",
       "889          890         1       1                     Behr, Mr. Karl Howell   \n",
       "890          891         0       3                       Dooley, Mr. Patrick   \n",
       "\n",
       "        Sex   Age  SibSp  Parch   Fare  \n",
       "886    male  27.0      0      0  13.00  \n",
       "887  female  19.0      0      0  30.00  \n",
       "888  female  28.0      1      2  23.45  \n",
       "889    male  26.0      0      0  30.00  \n",
       "890    male  32.0      0      0   7.75  "
      ]
     },
     "execution_count": 28,
     "metadata": {},
     "output_type": "execute_result"
    }
   ],
   "source": [
    "#vamos hacer un tail para mirar los datos para aprender y reconcer patrones\n",
    "df.tail(5)"
   ]
  },
  {
   "cell_type": "markdown",
   "id": "da1db397-eb4c-4f01-9625-b9dc8f7cf2fb",
   "metadata": {},
   "source": [
    "Vamos empezar hacer un Codigo para investigar con los apellidos y nombres y si estan bien SibSp y Parch"
   ]
  },
  {
   "cell_type": "markdown",
   "id": "5c3042da-4411-4753-88a3-08b93b06fb9b",
   "metadata": {},
   "source": [
    "Los dos siguientes códigos los hemos hecho para filtrar entre los nombres y comprobar si la relación entre 'SibSp' y 'Parch' está bien en los resultados.\n",
    "El fin de esto era poder clasificar familias, familias con niños, etc."
   ]
  },
  {
   "cell_type": "code",
   "execution_count": null,
   "id": "554fe559-75de-47db-bbee-b5d4afe47a73",
   "metadata": {
    "tags": []
   },
   "outputs": [],
   "source": [
    "# funcion para filtrar segun Apellido\n",
    "def filter_by_lastname(df, lastname):\n",
    "    nombres_apellido = df[df['Name'].str.contains(lastname, na=False)]\n",
    "    return nombres_apellido\n",
    "\n",
    "# Introducir el apellido lo que esta buscando\n",
    "xname = input(str(\"Introduzca el nombre que busca\"))\n",
    "\n",
    "# Filtrar las filas que tienen el mismo apellido\n",
    "resultado_df = filter_by_lastname(df, xname)\n",
    "\n",
    "# Anzeigen der Ergebnisse\n",
    "print(\"Nombres con el apellido: '{}':\".format(xname))\n",
    "print(resultado_df)"
   ]
  },
  {
   "cell_type": "code",
   "execution_count": null,
   "id": "821d77fe-869b-46b5-83c4-ce64c5d659ec",
   "metadata": {
    "tags": []
   },
   "outputs": [],
   "source": [
    "# Función para filtrar las filas con el nombre especificado comun era para combrobar si concidencias entre Parch y SibSp\n",
    "# porque hemos detectado irregulidades \n",
    "def filter_by_name(df, name):\n",
    "    nombres_con_nombre = df[df['Name'].str.contains(name, case=False, regex=True, na=False)]\n",
    "    return nombres_con_nombre\n",
    "\n",
    "# Nombre que deseas filtrar\n",
    "nombre_a_buscar = input(\"Introduce un nombre que quieras buscar: \")\n",
    "\n",
    "# Filtrar las filas con el nombre especificado\n",
    "df_filtrado = filter_by_name(df, nombre_a_buscar)\n",
    "\n",
    "# Mostrar los resultados\n",
    "print(\"Nombres con el nombre '{}':\".format(nombre_a_buscar))\n",
    "print(df_filtrado)"
   ]
  },
  {
   "cell_type": "markdown",
   "id": "feaa05eb-6188-4af6-8e76-508094d85367",
   "metadata": {},
   "source": [
    "Hemos intentado establecer una relación entre 'SibSp' y 'Parch'. El primer código busca a todos aquellos que comparten el mismo apellido, y el segundo busca aquellos que contienen el nombre que estamos buscando en 'name'. Queremos saber si podemos determinar el tamaño de una familia según los datos que hemos verificado. Según los datos, hemos comprobado que las mujeres casadas adoptan los apellidos de sus maridos, y su nombre antes de casarse está entre paréntesis.\n",
    "\n",
    "En el último caso de 'Parch', cuando asumimos que la persona se cuenta a sí misma también. Las mujeres adoptarían el apellido del marido y su nombre estaría entre paréntesis, pero no aparece. Si fuera hermana o hermano, tendría el mismo apellido y tampoco aparece.\n",
    "\n",
    "Hemos comprobado esto con varios nombres y nos da resultados erróneos. Dado que los datos son de 1912, podría ser que haya sido un descuido o error humano, o que no se aplique el mismo estándar para todos los pasajeros. Es posible que algunos fallos en los números de 'SibSp' y 'Parch' se deban a los que estaban a bordo, pero encontrarlos tan fácilmente nos hace dudar de la validez de los datos."
   ]
  },
  {
   "cell_type": "code",
   "execution_count": 32,
   "id": "0e934046-4696-4fbf-bcb8-4f6c0e456825",
   "metadata": {
    "tags": []
   },
   "outputs": [
    {
     "name": "stdout",
     "output_type": "stream",
     "text": [
      "Name\n",
      "Mr              517\n",
      "Miss            182\n",
      "Mrs             125\n",
      "Master           40\n",
      "Dr                7\n",
      "Rev               6\n",
      "Mlle              2\n",
      "Major             2\n",
      "Col               2\n",
      "the Countess      1\n",
      "Capt              1\n",
      "Ms                1\n",
      "Sir               1\n",
      "Lady              1\n",
      "Mme               1\n",
      "Don               1\n",
      "Jonkheer          1\n",
      "Name: count, dtype: int64\n"
     ]
    }
   ],
   "source": [
    "# Vamos a mirrar cuantos Mr. Mrs. Miss(titulos) etc tenemos\n",
    "# Contar la frecuencia de los títulos en la columna 'Name'\n",
    "title_counts = df['Name'].apply(lambda x: x.split(',')[1].split('.')[0].strip()).value_counts()\n",
    "\n",
    "print(title_counts)\n"
   ]
  },
  {
   "cell_type": "code",
   "execution_count": 34,
   "id": "6819ac96-4e98-4e0c-be59-6984460e7749",
   "metadata": {
    "tags": []
   },
   "outputs": [
    {
     "name": "stdout",
     "output_type": "stream",
     "text": [
      "Survived\n",
      "1    23\n",
      "0    17\n",
      "Name: count, dtype: int64\n",
      "    PassengerId  Survived  Pclass                                Name   Sex  \\\n",
      "7             8         0       3      Palsson, Master. Gosta Leonard  male   \n",
      "16           17         0       3                Rice, Master. Eugene  male   \n",
      "50           51         0       3          Panula, Master. Juha Niilo  male   \n",
      "59           60         0       3  Goodwin, Master. William Frederick  male   \n",
      "63           64         0       3               Skoog, Master. Harald  male   \n",
      "\n",
      "     Age  SibSp  Parch     Fare  \n",
      "7    2.0      3      1  21.0750  \n",
      "16   2.0      4      1  29.1250  \n",
      "50   7.0      4      1  39.6875  \n",
      "59  11.0      5      2  46.9000  \n",
      "63   4.0      3      2  27.9000  \n"
     ]
    }
   ],
   "source": [
    "# Filtrar las filas que contienen 'Master' en algún lugar de la columna 'Name'\n",
    "master_entries = df[df['Name'].str.contains(r'Master', na=False, regex=True)]\n",
    "\n",
    "# Contar los supervivientes entre los pasajeros con título \"Master\"\n",
    "master_survived_counts = master_entries['Survived'].value_counts()\n",
    "\n",
    "print(master_survived_counts)\n",
    "\n",
    "# Filtrar las filas que contienen \"Master\" en la columna name\n",
    "master_entries = df[df['Name'].str.contains('Master\\. ', na=False, regex=True)]\n",
    "print(master_entries.head(5))"
   ]
  },
  {
   "cell_type": "markdown",
   "id": "660b6172-b773-4e21-aa13-973aea6bd257",
   "metadata": {},
   "source": [
    "Vale, aunque no lo hemos reflejado aquí, hemos investigado sobre los títulos de los nombres aparte de los ya conocidos Mr., Miss, Mrs., etc. Jonkheer, por ejemplo, es un título nobiliario holandés; 'The Countess' es algo como duquesa; 'Master' es donde más datos había, unos 40, y era un título para niños varones. Por defecto, no creemos que podamos sacar más provecho de los \"títulos\" y, así, no los tenemos en cuenta por ahora.\n",
    "\n",
    "Nos queda el resto de las columnas, donde podríamos pensar si aplicar algún filtro para preparar los datos. Las niñas, sin embargo, desde que nacen tienen el título 'Miss'.\n"
   ]
  },
  {
   "cell_type": "code",
   "execution_count": 37,
   "id": "36ef9c1a-93bf-4838-a557-772439bd22b6",
   "metadata": {
    "tags": []
   },
   "outputs": [
    {
     "name": "stdout",
     "output_type": "stream",
     "text": [
      "Cantidad de mujers casadas a bordo:  129\n"
     ]
    }
   ],
   "source": [
    "# ahora vamos a ver cuando mujeres casados habia a Bordo\n",
    "mrs_entries = df[df['Name'].str.contains(r'Mrs', na=False, regex=True)]\n",
    "# print(master_entries.head())\n",
    "num_mrs_df = mrs_entries.shape[0]\n",
    "print(\"Cantidad de mujers casadas a bordo: \", num_mrs_df)\n"
   ]
  },
  {
   "cell_type": "code",
   "execution_count": 39,
   "id": "062ab502-1661-420a-b38e-e0f093bac3e0",
   "metadata": {
    "tags": []
   },
   "outputs": [
    {
     "name": "stdout",
     "output_type": "stream",
     "text": [
      "Número de matrimonios donde estaban las dos a bordo: 81\n"
     ]
    }
   ],
   "source": [
    "# Filtrar las mujeres casadas a bordo donde se encuentra tambien el Marido a bordo\n",
    "marriage_mr_mrs = df[df['Name'].str.contains(r'Mrs', na=False, regex=True) & df['Name'].str.contains(r'Mr', na=False, regex=True) & (df['SibSp'] >= 1)]\n",
    "\n",
    "# Contar el número de matrimonios que contienen tanto 'Mrs' como 'Mr' en el barco\n",
    "marriage_mr_mrs = marriage_mr_mrs.shape[0]\n",
    "\n",
    "print(\"Número de matrimonios donde estaban las dos a bordo:\", marriage_mr_mrs)"
   ]
  },
  {
   "cell_type": "markdown",
   "id": "b9d7fdfa-222e-4405-9370-03a6f78e6f02",
   "metadata": {},
   "source": [
    "para comprobar si los datos conciden vamos a mirar si hay 48 Mrs sin su marido a bordo"
   ]
  },
  {
   "cell_type": "code",
   "execution_count": 41,
   "id": "4005014a-8e8d-40ee-a0eb-621856ceee15",
   "metadata": {
    "tags": []
   },
   "outputs": [
    {
     "name": "stdout",
     "output_type": "stream",
     "text": [
      "Número de mujeres 'Mrs' sin cónyuge a bordo: 48\n"
     ]
    }
   ],
   "source": [
    "# Filtrar las filas que contienen solo 'Mrs' en el nombre y no tienen cónyuge a bordo\n",
    "just_mrs = df[df['Name'].str.contains(r'Mrs', na=False, regex=True)  & (df['SibSp'] == 0)]\n",
    "\n",
    "# Contar el número de mujeres 'Mrs' sin cónyuge a bordo\n",
    "just_mrs = just_mrs.shape[0]\n",
    "\n",
    "print(\"Número de mujeres 'Mrs' sin cónyuge a bordo:\", just_mrs)"
   ]
  },
  {
   "cell_type": "markdown",
   "id": "1213078b-9912-423a-a2fb-e3bc88a05924",
   "metadata": {},
   "source": [
    "Ahora hemos filtrado primero todas las mujeres casadas. Luego, aplicamos un filtro para aquellas que contienen 'Mrs' y 'Mr' (las mujeres casadas se escriben así: 'Apellido, Mrs. William (Margaret Norton)' = 'Apellido (del marido), Mrs. Nombre (del marido) (su nombre)'). Además, que tengan 'SibSp' igual o mayor que 1. Después, hemos revisado aquellas que tienen 'SibSp' igual a 0, que serían las mujeres casadas pero sin marido, y los dos resultados coinciden con el total."
   ]
  },
  {
   "cell_type": "markdown",
   "id": "4b2fb3da-9f8e-44e6-8dad-9cbe05b9a031",
   "metadata": {},
   "source": [
    "Vamos a mirar cuantos matrimonios con hijos habia a Bordo"
   ]
  },
  {
   "cell_type": "code",
   "execution_count": 44,
   "id": "3190c946-083b-4f5e-bbbb-2ac4b4ccd84c",
   "metadata": {
    "tags": []
   },
   "outputs": [
    {
     "name": "stdout",
     "output_type": "stream",
     "text": [
      "Número de matrimonios con hijos a bordo: 31\n"
     ]
    }
   ],
   "source": [
    "marriage_with_child = df[df['Name'].str.contains(r'Mrs.', na=False, regex=True) & df['Name'].str.contains(r'Mr', na=False, regex=True) & (df['SibSp'] >= 1) & (df['Parch'] >= 1)]\n",
    "marriage_with_child = marriage_with_child.shape[0]\n",
    "print(\"Número de matrimonios con hijos a bordo:\", marriage_with_child)"
   ]
  },
  {
   "cell_type": "code",
   "execution_count": 46,
   "id": "61973ecf-2bac-4302-9dd7-d84f83751738",
   "metadata": {
    "tags": []
   },
   "outputs": [
    {
     "name": "stdout",
     "output_type": "stream",
     "text": [
      "Número de matrimonios sin hijos a bordo: 50\n"
     ]
    }
   ],
   "source": [
    "marriage_without_child = df[df['Name'].str.contains(r'Mrs.', na=False, regex=True) & df['Name'].str.contains(r'Mr', na=False, regex=True) & (df['SibSp'] >= 1) & (df['Parch'] == 0)]\n",
    "marriage_without_child = marriage_without_child.shape[0]\n",
    "print(\"Número de matrimonios sin hijos a bordo:\", marriage_without_child)"
   ]
  },
  {
   "cell_type": "code",
   "execution_count": 48,
   "id": "78306c37-25c7-4470-8d12-92cc3055f19c",
   "metadata": {
    "tags": []
   },
   "outputs": [
    {
     "name": "stdout",
     "output_type": "stream",
     "text": [
      "Número de Mr sin cónyuge a bordo: 517\n",
      "Numero de Mr sin conyuge a bordo:     PassengerId  Survived  Pclass                            Name   Sex   Age  \\\n",
      "0             1         0       3         Braund, Mr. Owen Harris  male  22.0   \n",
      "4             5         0       3        Allen, Mr. William Henry  male  35.0   \n",
      "5             6         0       3                Moran, Mr. James  male  28.0   \n",
      "6             7         0       1         McCarthy, Mr. Timothy J  male  54.0   \n",
      "12           13         0       3  Saundercock, Mr. William Henry  male  20.0   \n",
      "\n",
      "    SibSp  Parch     Fare  \n",
      "0       1      0   7.2500  \n",
      "4       0      0   8.0500  \n",
      "5       0      0   8.4583  \n",
      "6       0      0  51.8625  \n",
      "12      0      0   8.0500  \n"
     ]
    }
   ],
   "source": [
    "mr_total = df[df['Name'].str.contains(r'Mr\\.', na=False, regex=True)] \n",
    "print(\"Número de Mr sin cónyuge a bordo:\", len(mr_total))\n",
    "print(\"Numero de Mr sin conyuge a bordo:\", mr_total.head(5))\n"
   ]
  },
  {
   "cell_type": "markdown",
   "id": "117e399f-dd9d-4e8a-89ef-8d708884b071",
   "metadata": {
    "tags": []
   },
   "source": [
    "\n",
    "\n",
    "31 matrimonios con hijos + 48 Mrs sin conyuge = son excato los 81 Mrs en total a bordo"
   ]
  },
  {
   "cell_type": "markdown",
   "id": "fee63deb-cddf-4003-8e7e-c6e52d24dacd",
   "metadata": {},
   "source": [
    "Ahora vamos a filtrar los matrimonios con hijos a bordo y determinar cuántos hijos tienen."
   ]
  },
  {
   "cell_type": "markdown",
   "id": "b5979ec8-c23a-47bd-9ff9-d62301c222d8",
   "metadata": {},
   "source": [
    "## no nos sirve el codigo abajo\n",
    "Era otro Intento mas sacar provecho de SibSp y Parch y ha fallado otravez"
   ]
  },
  {
   "cell_type": "code",
   "execution_count": null,
   "id": "4aecc1ce-ea92-4596-ab4a-eab42cc91215",
   "metadata": {
    "tags": []
   },
   "outputs": [],
   "source": [
    "# \n",
    "# Filtrar matrimonios con hijos a bordo\n",
    "matrimonios_con_hijos = df[(df['Name'].str.contains(r'Mrs.', na=False, regex=True)) & (df['Name'].str.contains(r'Mr', na=False, regex=True)) & (df['SibSp'] >= 1) & (df['Parch'] >= 1)]\n",
    "\n",
    "# Identificar el apellido de las personas en matrimonios con hijos a bordo\n",
    "matrimonios_apellidos = matrimonios_con_hijos['Name'].str.extract(r'([A-Za-z]+),')\n",
    "\n",
    "# Contar el número de hijos con el mismo apellido que los matrimonios\n",
    "num_hijos_mismo_apellido = df[(df['Parch'] >= 1) & (df['Name'].str.extract(r'([A-Za-z]+),').iloc[:, 0].isin(matrimonios_apellidos.iloc[:, 0]))].shape[0]\n",
    "\n",
    "# Clasificar en el número de familias con estos criterios\n",
    "num_familias_con_hijos_mismo_apellido = matrimonios_apellidos.nunique()[0]\n",
    "\n",
    "# Mostrar resultados\n",
    "\n",
    "\n",
    "print(\"Número de hijos con el mismo apellido que los matrimonios:\", num_hijos_mismo_apellido)\n",
    "print(\"Número de familias con hijos que comparten el mismo apellido que los matrimonios:\", num_familias_con_hijos_mismo_apellido)\n"
   ]
  },
  {
   "cell_type": "markdown",
   "id": "4ebfbf64-855e-40e9-85ed-8adf54c916bf",
   "metadata": {},
   "source": [
    "El código anterior ha sido modificado muchas veces debido a fallos en 'SibSp' y 'Parch'. Hemos decidido descartar cualquier variable o resultado que tenga que ver con los hijos y los padres, ya que no nos han gustado ni han producido los resultados deseados. Nuestro objetivo era entender qué sucedió con las familias que viajaban con niños.\n"
   ]
  },
  {
   "cell_type": "code",
   "execution_count": 56,
   "id": "22df0528-5b0c-4379-bc40-698f56296703",
   "metadata": {
    "tags": []
   },
   "outputs": [
    {
     "name": "stdout",
     "output_type": "stream",
     "text": [
      "El promedio de 'Fare' es 32.44754466891134\n",
      "La mediana de 'Fare' es 14.4542\n",
      "La moda de 'Fare' es 0    8.05\n",
      "Name: Fare, dtype: float64\n"
     ]
    }
   ],
   "source": [
    "mean_fare = df['Fare'].mean()\n",
    "median_fare = df['Fare'].median()\n",
    "mode_fare = df['Fare'].mode()\n",
    "\n",
    "\n",
    "print(f\"El promedio de 'Fare' es {mean_fare}\")\n",
    "print(f\"La mediana de 'Fare' es {median_fare}\")\n",
    "print(f\"La moda de 'Fare' es {mode_fare}\")\n",
    "\n",
    "\n",
    "\n",
    "\n",
    "\n"
   ]
  },
  {
   "cell_type": "code",
   "execution_count": 58,
   "id": "bd9d0664-461f-47d9-93a6-ab015db19d1a",
   "metadata": {
    "tags": []
   },
   "outputs": [
    {
     "data": {
      "text/html": [
       "<div>\n",
       "<style scoped>\n",
       "    .dataframe tbody tr th:only-of-type {\n",
       "        vertical-align: middle;\n",
       "    }\n",
       "\n",
       "    .dataframe tbody tr th {\n",
       "        vertical-align: top;\n",
       "    }\n",
       "\n",
       "    .dataframe thead th {\n",
       "        text-align: right;\n",
       "    }\n",
       "</style>\n",
       "<table border=\"1\" class=\"dataframe\">\n",
       "  <thead>\n",
       "    <tr style=\"text-align: right;\">\n",
       "      <th></th>\n",
       "      <th>PassengerId</th>\n",
       "      <th>Survived</th>\n",
       "      <th>Pclass</th>\n",
       "      <th>Age</th>\n",
       "      <th>SibSp</th>\n",
       "      <th>Parch</th>\n",
       "      <th>Fare</th>\n",
       "    </tr>\n",
       "  </thead>\n",
       "  <tbody>\n",
       "    <tr>\n",
       "      <th>count</th>\n",
       "      <td>891.000000</td>\n",
       "      <td>891.000000</td>\n",
       "      <td>891.000000</td>\n",
       "      <td>891.000000</td>\n",
       "      <td>891.000000</td>\n",
       "      <td>891.000000</td>\n",
       "      <td>891.000000</td>\n",
       "    </tr>\n",
       "    <tr>\n",
       "      <th>mean</th>\n",
       "      <td>446.000000</td>\n",
       "      <td>0.383838</td>\n",
       "      <td>2.308642</td>\n",
       "      <td>29.361582</td>\n",
       "      <td>0.523008</td>\n",
       "      <td>0.381594</td>\n",
       "      <td>32.447545</td>\n",
       "    </tr>\n",
       "    <tr>\n",
       "      <th>std</th>\n",
       "      <td>257.353842</td>\n",
       "      <td>0.486592</td>\n",
       "      <td>0.836071</td>\n",
       "      <td>13.019697</td>\n",
       "      <td>1.102743</td>\n",
       "      <td>0.806057</td>\n",
       "      <td>49.570235</td>\n",
       "    </tr>\n",
       "    <tr>\n",
       "      <th>min</th>\n",
       "      <td>1.000000</td>\n",
       "      <td>0.000000</td>\n",
       "      <td>1.000000</td>\n",
       "      <td>0.420000</td>\n",
       "      <td>0.000000</td>\n",
       "      <td>0.000000</td>\n",
       "      <td>4.012500</td>\n",
       "    </tr>\n",
       "    <tr>\n",
       "      <th>25%</th>\n",
       "      <td>223.500000</td>\n",
       "      <td>0.000000</td>\n",
       "      <td>2.000000</td>\n",
       "      <td>22.000000</td>\n",
       "      <td>0.000000</td>\n",
       "      <td>0.000000</td>\n",
       "      <td>7.925000</td>\n",
       "    </tr>\n",
       "    <tr>\n",
       "      <th>50%</th>\n",
       "      <td>446.000000</td>\n",
       "      <td>0.000000</td>\n",
       "      <td>3.000000</td>\n",
       "      <td>28.000000</td>\n",
       "      <td>0.000000</td>\n",
       "      <td>0.000000</td>\n",
       "      <td>14.454200</td>\n",
       "    </tr>\n",
       "    <tr>\n",
       "      <th>75%</th>\n",
       "      <td>668.500000</td>\n",
       "      <td>1.000000</td>\n",
       "      <td>3.000000</td>\n",
       "      <td>35.000000</td>\n",
       "      <td>1.000000</td>\n",
       "      <td>0.000000</td>\n",
       "      <td>31.000000</td>\n",
       "    </tr>\n",
       "    <tr>\n",
       "      <th>max</th>\n",
       "      <td>891.000000</td>\n",
       "      <td>1.000000</td>\n",
       "      <td>3.000000</td>\n",
       "      <td>80.000000</td>\n",
       "      <td>8.000000</td>\n",
       "      <td>6.000000</td>\n",
       "      <td>512.329200</td>\n",
       "    </tr>\n",
       "  </tbody>\n",
       "</table>\n",
       "</div>"
      ],
      "text/plain": [
       "       PassengerId    Survived      Pclass         Age       SibSp  \\\n",
       "count   891.000000  891.000000  891.000000  891.000000  891.000000   \n",
       "mean    446.000000    0.383838    2.308642   29.361582    0.523008   \n",
       "std     257.353842    0.486592    0.836071   13.019697    1.102743   \n",
       "min       1.000000    0.000000    1.000000    0.420000    0.000000   \n",
       "25%     223.500000    0.000000    2.000000   22.000000    0.000000   \n",
       "50%     446.000000    0.000000    3.000000   28.000000    0.000000   \n",
       "75%     668.500000    1.000000    3.000000   35.000000    1.000000   \n",
       "max     891.000000    1.000000    3.000000   80.000000    8.000000   \n",
       "\n",
       "            Parch        Fare  \n",
       "count  891.000000  891.000000  \n",
       "mean     0.381594   32.447545  \n",
       "std      0.806057   49.570235  \n",
       "min      0.000000    4.012500  \n",
       "25%      0.000000    7.925000  \n",
       "50%      0.000000   14.454200  \n",
       "75%      0.000000   31.000000  \n",
       "max      6.000000  512.329200  "
      ]
     },
     "execution_count": 58,
     "metadata": {},
     "output_type": "execute_result"
    }
   ],
   "source": [
    "df.describe()"
   ]
  },
  {
   "cell_type": "code",
   "execution_count": 60,
   "id": "43d81d3d-a05c-44d4-b60f-b78bed530125",
   "metadata": {
    "tags": []
   },
   "outputs": [
    {
     "name": "stdout",
     "output_type": "stream",
     "text": [
      "<class 'pandas.core.frame.DataFrame'>\n",
      "RangeIndex: 891 entries, 0 to 890\n",
      "Data columns (total 9 columns):\n",
      " #   Column       Non-Null Count  Dtype  \n",
      "---  ------       --------------  -----  \n",
      " 0   PassengerId  891 non-null    int64  \n",
      " 1   Survived     891 non-null    int64  \n",
      " 2   Pclass       891 non-null    int64  \n",
      " 3   Name         891 non-null    object \n",
      " 4   Sex          891 non-null    object \n",
      " 5   Age          891 non-null    float64\n",
      " 6   SibSp        891 non-null    int64  \n",
      " 7   Parch        891 non-null    int64  \n",
      " 8   Fare         891 non-null    float64\n",
      "dtypes: float64(2), int64(5), object(2)\n",
      "memory usage: 62.8+ KB\n"
     ]
    }
   ],
   "source": [
    "df.info()"
   ]
  },
  {
   "cell_type": "markdown",
   "id": "973e82d1-1479-4ca4-b5fd-93949ae90ee4",
   "metadata": {},
   "source": [
    "## Estadística Descriptiva"
   ]
  },
  {
   "cell_type": "markdown",
   "id": "6e88f36a-6736-4643-8794-ba5475d35a1a",
   "metadata": {},
   "source": [
    "Vamos a visulaizar las differentes Columnas\n"
   ]
  },
  {
   "cell_type": "code",
   "execution_count": 62,
   "id": "5cfd799c-87b3-4482-9a8e-9847a9ab4a1b",
   "metadata": {
    "tags": []
   },
   "outputs": [
    {
     "data": {
      "image/png": "[encoded data removed]",
      "text/plain": [
       "<Figure size 1000x500 with 2 Axes>"
      ]
     },
     "metadata": {},
     "output_type": "display_data"
    }
   ],
   "source": [
    "# Calcular los porcentajes y contar la cantidad de cada valor en la columna 'Sex'\n",
    "value_counts = df['Sex'].value_counts()\n",
    "total_pasajeros = len(df)  # Total de pasajeros en el DataFrame\n",
    "\n",
    "# Calcular los porcentajes y contar la cantidad de sobrevivientes\n",
    "survived_counts = df[df['Survived'] == 1]['Sex'].value_counts()\n",
    "total_sobrevivientes = survived_counts.sum()\n",
    "\n",
    "# Calcular los porcentajes de sobrevivientes en relación con el total de hombres y mujeres\n",
    "survived_percentage_male = (survived_counts['male'] / value_counts['male']) * 100\n",
    "survived_percentage_female = (survived_counts['female'] / value_counts['female']) * 100\n",
    "\n",
    "# Crear una figura con dos subtramas (una al lado de la otra)\n",
    "fig, axes = plt.subplots(1, 2, figsize=(10, 5))\n",
    "\n",
    "# Gráfico para la distribución de género de todos los pasajeros\n",
    "axes[0].pie(value_counts, labels=value_counts.index, autopct=lambda p: '{:.0f} ({:.1f}%)'.format(p * total_pasajeros / 100, p),\n",
    "            startangle=140)\n",
    "axes[0].set_title('Sexo de los pasajeros')\n",
    "axes[0].axis('equal')  # Asegurar que el gráfico sea un círculo\n",
    "\n",
    "# Gráfico para la distribución de género de los sobrevivientes\n",
    "axes[1].pie([survived_counts['male'], survived_counts['female']], labels=['Male', 'Female'],\n",
    "            autopct=lambda p: '{:.0f} ({:.1f}%)'.format(p * total_sobrevivientes / 100, p),\n",
    "            startangle=140)\n",
    "axes[1].set_title('Sobrevivientes por género')\n",
    "axes[1].axis('equal')  # Asegurar que el gráfico sea un círculo\n",
    "\n",
    "plt.tight_layout()  # Ajustar el diseño para evitar superposiciones\n",
    "plt.show()\n",
    "\n"
   ]
  },
  {
   "cell_type": "code",
   "execution_count": 76,
   "id": "d9cd6e8a-2a41-462f-9c1f-bff7c4e75a6e",
   "metadata": {
    "tags": []
   },
   "outputs": [
    {
     "data": {
      "image/png": "[encoded data removed]",
      "text/plain": [
       "<Figure size 1800x600 with 3 Axes>"
      ]
     },
     "metadata": {},
     "output_type": "display_data"
    },
    {
     "data": {
      "image/png": "[encoded data removed]",
      "text/plain": [
       "<Figure size 1800x600 with 3 Axes>"
      ]
     },
     "metadata": {},
     "output_type": "display_data"
    },
    {
     "data": {
      "text/plain": [
       "<Figure size 1600x900 with 0 Axes>"
      ]
     },
     "metadata": {},
     "output_type": "display_data"
    }
   ],
   "source": [
    "# Agrupar los datos por clase y sexo\n",
    "grouped = df.groupby(['Pclass', 'Sex']).size().unstack()\n",
    "\n",
    "# Calcular los porcentajes\n",
    "percentages = grouped.div(grouped.sum(axis=1), axis=0) * 100\n",
    "\n",
    "# Crear el gráfico de pastel para cada clase\n",
    "fig, axes = plt.subplots(1, 3, figsize=(18, 6))\n",
    "\n",
    "for i, pclass in enumerate(grouped.index):\n",
    "    counts = grouped.loc[pclass]\n",
    "    percents = percentages.loc[pclass]\n",
    "    labels = [f'{sex}\\n{count} ({percent:.1f}%)' for sex, count, percent in zip(counts.index, counts, percents)]\n",
    "    \n",
    "    axes[i].pie(counts, labels = labels, autopct='%1.1f%%', startangle = 140)\n",
    "    axes[i].set_title(f'Clase {pclass}')\n",
    "# Filtrar el DataFrame para incluir solo los casos donde 'Survived' es igual a 1\n",
    "survived_df = df[df['Survived'] == 1]\n",
    "\n",
    "# Agrupar los datos filtrados por clase y sexo\n",
    "grouped_survived = survived_df.groupby(['Pclass', 'Sex']).size().unstack()\n",
    "\n",
    "# Calcular los porcentajes\n",
    "percentages_survived = grouped_survived.div(grouped_survived.sum(axis=1), axis=0) * 100\n",
    "\n",
    "# Crear el gráfico de pastel para cada clase\n",
    "fig, axes = plt.subplots(1, 3, figsize=(18, 6))\n",
    "\n",
    "\n",
    "\n",
    "for i, pclass in enumerate(grouped_survived.index):\n",
    "    counts_survived = grouped_survived.loc[pclass]\n",
    "    percents_survived = percentages_survived.loc[pclass]\n",
    "    labels_survived = [f'{sex}\\n{count} ({percent:.1f}%)' for sex, count, percent in zip(counts_survived.index, counts_survived, percents_survived)]\n",
    "    \n",
    "    axes[i].pie(counts_survived, labels=labels_survived, autopct='%1.1f%%', startangle=140)\n",
    "    axes[i].set_title(f'Clase {pclass} - Sobrevivientes')\n",
    "    \n",
    "\n",
    "# No sé porque no se pone el titulo en la primer grafica\n",
    "plt.suptitle('Distribución de Hombres y Mujeres por Clase')\n",
    "plt.show()\n",
    "    \n",
    "plt.suptitle('Distribución de Sobrevivientes por Clase y Sexo')\n",
    "plt.show()\n",
    "\n",
    "\n"
   ]
  },
  {
   "cell_type": "code",
   "execution_count": 66,
   "id": "4272ed5e-3925-4def-8012-6df108c13929",
   "metadata": {
    "tags": []
   },
   "outputs": [
    {
     "name": "stdout",
     "output_type": "stream",
     "text": [
      "Supervivencia según título:\n",
      "Name\n",
      "Miss            127\n",
      "Mrs              99\n",
      "Mr               81\n",
      "Master           23\n",
      "Dr                3\n",
      "Mlle              2\n",
      "Mme               1\n",
      "Ms                1\n",
      "Major             1\n",
      "Lady              1\n",
      "Sir               1\n",
      "Col               1\n",
      "the Countess      1\n",
      "Name: count, dtype: int64\n",
      "\n",
      "Porcentaje de cuántos Mr. han sobrevivido: 15.67 %\n",
      "Porcentaje de cuántos Miss han sobrevivido: 69.78 %\n",
      "Porcentaje de cuántos Mrs. han sobrevivido: 79.2 %\n",
      "Porcentaje de cuántos Master han sobrevivido: 57.5 %\n"
     ]
    }
   ],
   "source": [
    "# vamos a seperar las pasajeros por \"titulos\" como Mrs. Miss. Mr. etc\n",
    "passenger_titles = df['Name'].apply(lambda x: x.split(',')[1].split('.')[0].strip())\n",
    "\n",
    "# vamos a flitrar que nos muestre solo las categorias donde hay mas de 10 personas\n",
    "passenger_counts = passenger_titles.value_counts()\n",
    "#passenger_counts = passenger_counts[passenger_counts > 10]\n",
    "\n",
    "# ahora aplicamos encima de este Filtro las Personas que han sobrevivido\n",
    "survived_titles = df[df['Survived'] == 1]['Name'].apply(lambda x: x.split(',')[1].split('.')[0].strip())\n",
    "survived_counts = survived_titles.value_counts()\n",
    "\n",
    "# Calcular el total de pasajeros para cada título\n",
    "total_passengers_per_title = passenger_counts\n",
    "\n",
    "# Calcular el % de sobrevivientes para cada título\n",
    "percentage_mr = round((survived_counts.get('Mr', 0) / total_passengers_per_title.get('Mr', 1)) * 100, 2) if 'Mr' in total_passengers_per_title else 0\n",
    "percentage_miss = round((survived_counts.get('Miss', 0) / total_passengers_per_title.get('Miss', 1)) * 100, 2) if 'Miss' in total_passengers_per_title else 0\n",
    "percentage_mrs = round((survived_counts.get('Mrs', 0) / total_passengers_per_title.get('Mrs', 1)) * 100, 2) if 'Mrs' in total_passengers_per_title else 0\n",
    "percentage_master = round((survived_counts.get('Master', 0) / total_passengers_per_title.get('Master', 1)) * 100, 2) if 'Master' in total_passengers_per_title else 0\n",
    "\n",
    "\n",
    "print(\"Supervivencia según título:\")\n",
    "print(survived_counts)\n",
    "print(\"\\nPorcentaje de cuántos Mr. han sobrevivido:\", percentage_mr, \"%\")\n",
    "print(\"Porcentaje de cuántos Miss han sobrevivido:\", percentage_miss, \"%\")\n",
    "print(\"Porcentaje de cuántos Mrs. han sobrevivido:\", percentage_mrs, \"%\")\n",
    "print(\"Porcentaje de cuántos Master han sobrevivido:\", percentage_master, \"%\")\n",
    "\n",
    "\n",
    "\n",
    "\n",
    "# el Print era para compobar el % con el total de passajeros de cada Categoria\n",
    "#print(passenger_counts)"
   ]
  },
  {
   "cell_type": "code",
   "execution_count": 68,
   "id": "8f84092f-629c-4cc0-a121-de073695c254",
   "metadata": {
    "tags": []
   },
   "outputs": [
    {
     "data": {
      "image/png": "[encoded data removed]",
      "text/plain": [
       "<Figure size 1000x600 with 1 Axes>"
      ]
     },
     "metadata": {},
     "output_type": "display_data"
    }
   ],
   "source": [
    "import seaborn as sns\n",
    "import matplotlib.pyplot as plt\n",
    "\n",
    "# Diagrama de Caja de Fare por Clase\n",
    "plt.figure(figsize=(10, 6))\n",
    "sns.boxplot(x='Pclass', y='Fare', data=df, palette='Set3')\n",
    "plt.title('Distribución del Precio del Tiquet (Fare) por Clase')\n",
    "plt.xlabel('Clase')\n",
    "plt.ylabel('Precio del Boleto (Fare)')\n",
    "plt.grid(True)\n",
    "plt.show()\n"
   ]
  },
  {
   "cell_type": "code",
   "execution_count": 78,
   "id": "52ca620e-8a58-467d-a3f6-2c121dcdadf3",
   "metadata": {
    "tags": []
   },
   "outputs": [
    {
     "name": "stdout",
     "output_type": "stream",
     "text": [
      "<class 'pandas.core.frame.DataFrame'>\n",
      "RangeIndex: 891 entries, 0 to 890\n",
      "Data columns (total 9 columns):\n",
      " #   Column       Non-Null Count  Dtype  \n",
      "---  ------       --------------  -----  \n",
      " 0   PassengerId  891 non-null    int64  \n",
      " 1   Survived     891 non-null    int64  \n",
      " 2   Pclass       891 non-null    int64  \n",
      " 3   Name         891 non-null    object \n",
      " 4   Sex          891 non-null    object \n",
      " 5   Age          891 non-null    float64\n",
      " 6   SibSp        891 non-null    int64  \n",
      " 7   Parch        891 non-null    int64  \n",
      " 8   Fare         891 non-null    float64\n",
      "dtypes: float64(2), int64(5), object(2)\n",
      "memory usage: 62.8+ KB\n"
     ]
    }
   ],
   "source": [
    "df.info()"
   ]
  },
  {
   "cell_type": "code",
   "execution_count": 80,
   "id": "74a96981-bc77-430b-8222-6a5692ae17ab",
   "metadata": {
    "tags": []
   },
   "outputs": [
    {
     "data": {
      "image/png": "[encoded data removed]",
      "text/plain": [
       "<Figure size 1000x800 with 2 Axes>"
      ]
     },
     "metadata": {},
     "output_type": "display_data"
    }
   ],
   "source": [
    "\n",
    "# Cargar los datos del Titanic\n",
    "#df = pd.read_csv(\"titanic.csv\")\n",
    "\n",
    "# Codificar variables categóricas (por ejemplo, género)\n",
    "df[\"Sex_number\"] = df[\"Sex\"].map({\"male\": 0, \"female\": 1})\n",
    "\n",
    "# Manejar valores perdidos (por ejemplo, imputar la edad con la mediana)\n",
    "df[\"Age\"].fillna(df[\"Age\"].median(), inplace=True)\n",
    "\n",
    "# Seleccionar variables relevantes\n",
    "selected_features = [\"Survived\", \"Pclass\", \"Sex_number\", \"Age\", \"SibSp\", \"Parch\", \"Fare\"]\n",
    "selected_data = df[selected_features]\n",
    "\n",
    "# Calcular la matriz de correlación\n",
    "correlation_matrix = selected_data.corr()\n",
    "\n",
    "# Crear el mapa de calor\n",
    "plt.figure(figsize=(10, 8))\n",
    "sns.heatmap(correlation_matrix, annot=True, cmap=\"coolwarm\", fmt=\".2f\", linewidths=0.5)\n",
    "plt.title(\"Matriz de Correlación del Titanic\")\n",
    "plt.show()\n"
   ]
  },
  {
   "cell_type": "markdown",
   "id": "47c0baed-fca8-4d18-a483-67c1a7ce8481",
   "metadata": {},
   "source": [
    "Como hemos ya antes visto que todos tienen un Titulo vamos aprovechar lo y transformar lo en Numeros"
   ]
  },
  {
   "cell_type": "code",
   "execution_count": 82,
   "id": "5c8fe001-4e7a-4fc1-95ee-d63619292012",
   "metadata": {
    "tags": []
   },
   "outputs": [
    {
     "name": "stdout",
     "output_type": "stream",
     "text": [
      "   PassengerId  Survived  Pclass  \\\n",
      "0            1         0       3   \n",
      "1            2         1       1   \n",
      "2            3         1       3   \n",
      "3            4         1       1   \n",
      "4            5         0       3   \n",
      "\n",
      "                                                Name     Sex   Age  SibSp  \\\n",
      "0                            Braund, Mr. Owen Harris    male  22.0      1   \n",
      "1  Cumings, Mrs. John Bradley (Florence Briggs Th...  female  38.0      1   \n",
      "2                             Heikkinen, Miss. Laina  female  26.0      0   \n",
      "3       Futrelle, Mrs. Jacques Heath (Lily May Peel)  female  35.0      1   \n",
      "4                           Allen, Mr. William Henry    male  35.0      0   \n",
      "\n",
      "   Parch     Fare  Sex_number Title  Title_Num  \n",
      "0      0   7.2500           0    Mr          1  \n",
      "1      0  71.2833           1   Mrs          3  \n",
      "2      0   7.9250           1  Miss          2  \n",
      "3      0  53.1000           1   Mrs          3  \n",
      "4      0   8.0500           0    Mr          1  \n"
     ]
    }
   ],
   "source": [
    "\n",
    "# Primero, extraemos los títulos de los nombres\n",
    "df['Title'] = df['Name'].apply(lambda x: x.split(',')[1].split('.')[0].strip())\n",
    "\n",
    "# Asignamos un número a cada título\n",
    "title_mapping = {\n",
    "    'Mr': 1, 'Miss': 2, 'Mrs': 3, 'Master': 4, 'Dr': 5, 'Rev': 6,\n",
    "    'Mlle': 7, 'Major': 8, 'Col': 9, 'the Countess': 10, 'Capt': 11,\n",
    "    'Ms': 12, 'Sir': 13, 'Lady': 14, 'Mme': 15, 'Don': 16, 'Jonkheer': 17\n",
    "}\n",
    "\n",
    "# Creamos una nueva columna 'Title_Num' con los valores numéricos asignados\n",
    "df['Title_Num'] = df['Title'].map(title_mapping)\n",
    "\n",
    "# Imprimimos las primeras filas del DataFrame para verificar\n",
    "print(df.head(5))\n"
   ]
  },
  {
   "cell_type": "markdown",
   "id": "3f207e0b-c8ee-4a67-a40d-dee43bab584b",
   "metadata": {},
   "source": [
    "Vamos a agrupar los edades en diferentes etapas\n"
   ]
  },
  {
   "cell_type": "code",
   "execution_count": 84,
   "id": "3792daa5-afb9-4e92-b41f-424abbf19702",
   "metadata": {
    "tags": []
   },
   "outputs": [
    {
     "data": {
      "text/html": [
       "<div>\n",
       "<style scoped>\n",
       "    .dataframe tbody tr th:only-of-type {\n",
       "        vertical-align: middle;\n",
       "    }\n",
       "\n",
       "    .dataframe tbody tr th {\n",
       "        vertical-align: top;\n",
       "    }\n",
       "\n",
       "    .dataframe thead th {\n",
       "        text-align: right;\n",
       "    }\n",
       "</style>\n",
       "<table border=\"1\" class=\"dataframe\">\n",
       "  <thead>\n",
       "    <tr style=\"text-align: right;\">\n",
       "      <th></th>\n",
       "      <th>PassengerId</th>\n",
       "      <th>Survived</th>\n",
       "      <th>Pclass</th>\n",
       "      <th>Name</th>\n",
       "      <th>Sex</th>\n",
       "      <th>Age</th>\n",
       "      <th>SibSp</th>\n",
       "      <th>Parch</th>\n",
       "      <th>Fare</th>\n",
       "      <th>Sex_number</th>\n",
       "      <th>Title</th>\n",
       "      <th>Title_Num</th>\n",
       "    </tr>\n",
       "  </thead>\n",
       "  <tbody>\n",
       "    <tr>\n",
       "      <th>0</th>\n",
       "      <td>1</td>\n",
       "      <td>0</td>\n",
       "      <td>3</td>\n",
       "      <td>Braund, Mr. Owen Harris</td>\n",
       "      <td>male</td>\n",
       "      <td>22.0</td>\n",
       "      <td>1</td>\n",
       "      <td>0</td>\n",
       "      <td>7.2500</td>\n",
       "      <td>0</td>\n",
       "      <td>Mr</td>\n",
       "      <td>1</td>\n",
       "    </tr>\n",
       "    <tr>\n",
       "      <th>1</th>\n",
       "      <td>2</td>\n",
       "      <td>1</td>\n",
       "      <td>1</td>\n",
       "      <td>Cumings, Mrs. John Bradley (Florence Briggs Th...</td>\n",
       "      <td>female</td>\n",
       "      <td>38.0</td>\n",
       "      <td>1</td>\n",
       "      <td>0</td>\n",
       "      <td>71.2833</td>\n",
       "      <td>1</td>\n",
       "      <td>Mrs</td>\n",
       "      <td>3</td>\n",
       "    </tr>\n",
       "    <tr>\n",
       "      <th>2</th>\n",
       "      <td>3</td>\n",
       "      <td>1</td>\n",
       "      <td>3</td>\n",
       "      <td>Heikkinen, Miss. Laina</td>\n",
       "      <td>female</td>\n",
       "      <td>26.0</td>\n",
       "      <td>0</td>\n",
       "      <td>0</td>\n",
       "      <td>7.9250</td>\n",
       "      <td>1</td>\n",
       "      <td>Miss</td>\n",
       "      <td>2</td>\n",
       "    </tr>\n",
       "    <tr>\n",
       "      <th>3</th>\n",
       "      <td>4</td>\n",
       "      <td>1</td>\n",
       "      <td>1</td>\n",
       "      <td>Futrelle, Mrs. Jacques Heath (Lily May Peel)</td>\n",
       "      <td>female</td>\n",
       "      <td>35.0</td>\n",
       "      <td>1</td>\n",
       "      <td>0</td>\n",
       "      <td>53.1000</td>\n",
       "      <td>1</td>\n",
       "      <td>Mrs</td>\n",
       "      <td>3</td>\n",
       "    </tr>\n",
       "    <tr>\n",
       "      <th>4</th>\n",
       "      <td>5</td>\n",
       "      <td>0</td>\n",
       "      <td>3</td>\n",
       "      <td>Allen, Mr. William Henry</td>\n",
       "      <td>male</td>\n",
       "      <td>35.0</td>\n",
       "      <td>0</td>\n",
       "      <td>0</td>\n",
       "      <td>8.0500</td>\n",
       "      <td>0</td>\n",
       "      <td>Mr</td>\n",
       "      <td>1</td>\n",
       "    </tr>\n",
       "  </tbody>\n",
       "</table>\n",
       "</div>"
      ],
      "text/plain": [
       "   PassengerId  Survived  Pclass  \\\n",
       "0            1         0       3   \n",
       "1            2         1       1   \n",
       "2            3         1       3   \n",
       "3            4         1       1   \n",
       "4            5         0       3   \n",
       "\n",
       "                                                Name     Sex   Age  SibSp  \\\n",
       "0                            Braund, Mr. Owen Harris    male  22.0      1   \n",
       "1  Cumings, Mrs. John Bradley (Florence Briggs Th...  female  38.0      1   \n",
       "2                             Heikkinen, Miss. Laina  female  26.0      0   \n",
       "3       Futrelle, Mrs. Jacques Heath (Lily May Peel)  female  35.0      1   \n",
       "4                           Allen, Mr. William Henry    male  35.0      0   \n",
       "\n",
       "   Parch     Fare  Sex_number Title  Title_Num  \n",
       "0      0   7.2500           0    Mr          1  \n",
       "1      0  71.2833           1   Mrs          3  \n",
       "2      0   7.9250           1  Miss          2  \n",
       "3      0  53.1000           1   Mrs          3  \n",
       "4      0   8.0500           0    Mr          1  "
      ]
     },
     "execution_count": 84,
     "metadata": {},
     "output_type": "execute_result"
    }
   ],
   "source": [
    "df.head()"
   ]
  },
  {
   "cell_type": "code",
   "execution_count": 86,
   "id": "c80140d7-5e5d-42e0-bbd1-73d7d7655738",
   "metadata": {
    "tags": []
   },
   "outputs": [],
   "source": [
    "#Vamos a agrupar la Edad en varios grupos\n",
    "# 0 0-3 años \n",
    "#  1 4-14 años\n",
    "# 2 15-21 años\n",
    "# 3 22-45 años\n",
    "# 4 46-60 años\n",
    "# 5 60+ años"
   ]
  },
  {
   "cell_type": "code",
   "execution_count": 88,
   "id": "89fafc7e-4652-40b2-a8e8-1de293fcd75e",
   "metadata": {
    "tags": []
   },
   "outputs": [
    {
     "name": "stdout",
     "output_type": "stream",
     "text": [
      "   PassengerId  Survived  Pclass  \\\n",
      "0            1         0       3   \n",
      "1            2         1       1   \n",
      "2            3         1       3   \n",
      "3            4         1       1   \n",
      "4            5         0       3   \n",
      "\n",
      "                                                Name     Sex   Age  SibSp  \\\n",
      "0                            Braund, Mr. Owen Harris    male  22.0      1   \n",
      "1  Cumings, Mrs. John Bradley (Florence Briggs Th...  female  38.0      1   \n",
      "2                             Heikkinen, Miss. Laina  female  26.0      0   \n",
      "3       Futrelle, Mrs. Jacques Heath (Lily May Peel)  female  35.0      1   \n",
      "4                           Allen, Mr. William Henry    male  35.0      0   \n",
      "\n",
      "   Parch     Fare  Sex_number Title  Title_Num  age_group  \n",
      "0      0   7.2500           0    Mr          1          3  \n",
      "1      0  71.2833           1   Mrs          3          3  \n",
      "2      0   7.9250           1  Miss          2          3  \n",
      "3      0  53.1000           1   Mrs          3          3  \n",
      "4      0   8.0500           0    Mr          1          3  \n"
     ]
    }
   ],
   "source": [
    "\n",
    "# Definir las categorías de edad y asignar números\n",
    "bins = [0, 4, 15, 22, 46, 61, float('inf')]\n",
    "labels = [0, 1, 2, 3, 4, 5]\n",
    "\n",
    "# Crear la nueva columna de grupos de edad\n",
    "df['age_group'] = pd.cut(df['Age'], bins=bins, labels=labels, right=False)\n",
    "\n",
    "# Asegurarse de que la nueva columna sea de tipo numérico\n",
    "df['age_group'] = df['age_group'].astype(int)\n",
    "\n",
    "# Mostrar las primeras filas del DataFrame con todas las columnas\n",
    "print(df.head())"
   ]
  },
  {
   "cell_type": "code",
   "execution_count": 90,
   "id": "8e3c87e0-a7d2-46b6-ba0e-3baa30dd4e28",
   "metadata": {
    "tags": []
   },
   "outputs": [
    {
     "name": "stdout",
     "output_type": "stream",
     "text": [
      "Index(['PassengerId', 'Survived', 'Pclass', 'Name', 'Sex', 'Age', 'SibSp',\n",
      "       'Parch', 'Fare', 'Sex_number', 'Title', 'Title_Num', 'age_group'],\n",
      "      dtype='object')\n"
     ]
    }
   ],
   "source": [
    "print(df.columns)"
   ]
  },
  {
   "cell_type": "code",
   "execution_count": 92,
   "id": "ac6a6a69-531d-429e-9d85-510297c0cba1",
   "metadata": {
    "tags": []
   },
   "outputs": [
    {
     "data": {
      "text/html": [
       "<div>\n",
       "<style scoped>\n",
       "    .dataframe tbody tr th:only-of-type {\n",
       "        vertical-align: middle;\n",
       "    }\n",
       "\n",
       "    .dataframe tbody tr th {\n",
       "        vertical-align: top;\n",
       "    }\n",
       "\n",
       "    .dataframe thead th {\n",
       "        text-align: right;\n",
       "    }\n",
       "</style>\n",
       "<table border=\"1\" class=\"dataframe\">\n",
       "  <thead>\n",
       "    <tr style=\"text-align: right;\">\n",
       "      <th></th>\n",
       "      <th>PassengerId</th>\n",
       "      <th>Survived</th>\n",
       "      <th>Pclass</th>\n",
       "      <th>Name</th>\n",
       "      <th>Sex</th>\n",
       "      <th>Age</th>\n",
       "      <th>SibSp</th>\n",
       "      <th>Parch</th>\n",
       "      <th>Fare</th>\n",
       "      <th>Sex_number</th>\n",
       "      <th>Title</th>\n",
       "      <th>Title_Num</th>\n",
       "      <th>age_group</th>\n",
       "    </tr>\n",
       "  </thead>\n",
       "  <tbody>\n",
       "    <tr>\n",
       "      <th>0</th>\n",
       "      <td>1</td>\n",
       "      <td>0</td>\n",
       "      <td>3</td>\n",
       "      <td>Braund, Mr. Owen Harris</td>\n",
       "      <td>male</td>\n",
       "      <td>22.0</td>\n",
       "      <td>1</td>\n",
       "      <td>0</td>\n",
       "      <td>7.2500</td>\n",
       "      <td>0</td>\n",
       "      <td>Mr</td>\n",
       "      <td>1</td>\n",
       "      <td>3</td>\n",
       "    </tr>\n",
       "    <tr>\n",
       "      <th>1</th>\n",
       "      <td>2</td>\n",
       "      <td>1</td>\n",
       "      <td>1</td>\n",
       "      <td>Cumings, Mrs. John Bradley (Florence Briggs Th...</td>\n",
       "      <td>female</td>\n",
       "      <td>38.0</td>\n",
       "      <td>1</td>\n",
       "      <td>0</td>\n",
       "      <td>71.2833</td>\n",
       "      <td>1</td>\n",
       "      <td>Mrs</td>\n",
       "      <td>3</td>\n",
       "      <td>3</td>\n",
       "    </tr>\n",
       "    <tr>\n",
       "      <th>2</th>\n",
       "      <td>3</td>\n",
       "      <td>1</td>\n",
       "      <td>3</td>\n",
       "      <td>Heikkinen, Miss. Laina</td>\n",
       "      <td>female</td>\n",
       "      <td>26.0</td>\n",
       "      <td>0</td>\n",
       "      <td>0</td>\n",
       "      <td>7.9250</td>\n",
       "      <td>1</td>\n",
       "      <td>Miss</td>\n",
       "      <td>2</td>\n",
       "      <td>3</td>\n",
       "    </tr>\n",
       "    <tr>\n",
       "      <th>3</th>\n",
       "      <td>4</td>\n",
       "      <td>1</td>\n",
       "      <td>1</td>\n",
       "      <td>Futrelle, Mrs. Jacques Heath (Lily May Peel)</td>\n",
       "      <td>female</td>\n",
       "      <td>35.0</td>\n",
       "      <td>1</td>\n",
       "      <td>0</td>\n",
       "      <td>53.1000</td>\n",
       "      <td>1</td>\n",
       "      <td>Mrs</td>\n",
       "      <td>3</td>\n",
       "      <td>3</td>\n",
       "    </tr>\n",
       "    <tr>\n",
       "      <th>4</th>\n",
       "      <td>5</td>\n",
       "      <td>0</td>\n",
       "      <td>3</td>\n",
       "      <td>Allen, Mr. William Henry</td>\n",
       "      <td>male</td>\n",
       "      <td>35.0</td>\n",
       "      <td>0</td>\n",
       "      <td>0</td>\n",
       "      <td>8.0500</td>\n",
       "      <td>0</td>\n",
       "      <td>Mr</td>\n",
       "      <td>1</td>\n",
       "      <td>3</td>\n",
       "    </tr>\n",
       "  </tbody>\n",
       "</table>\n",
       "</div>"
      ],
      "text/plain": [
       "   PassengerId  Survived  Pclass  \\\n",
       "0            1         0       3   \n",
       "1            2         1       1   \n",
       "2            3         1       3   \n",
       "3            4         1       1   \n",
       "4            5         0       3   \n",
       "\n",
       "                                                Name     Sex   Age  SibSp  \\\n",
       "0                            Braund, Mr. Owen Harris    male  22.0      1   \n",
       "1  Cumings, Mrs. John Bradley (Florence Briggs Th...  female  38.0      1   \n",
       "2                             Heikkinen, Miss. Laina  female  26.0      0   \n",
       "3       Futrelle, Mrs. Jacques Heath (Lily May Peel)  female  35.0      1   \n",
       "4                           Allen, Mr. William Henry    male  35.0      0   \n",
       "\n",
       "   Parch     Fare  Sex_number Title  Title_Num  age_group  \n",
       "0      0   7.2500           0    Mr          1          3  \n",
       "1      0  71.2833           1   Mrs          3          3  \n",
       "2      0   7.9250           1  Miss          2          3  \n",
       "3      0  53.1000           1   Mrs          3          3  \n",
       "4      0   8.0500           0    Mr          1          3  "
      ]
     },
     "execution_count": 92,
     "metadata": {},
     "output_type": "execute_result"
    }
   ],
   "source": [
    "df.head()"
   ]
  },
  {
   "cell_type": "code",
   "execution_count": null,
   "id": "107462e7-132c-43b2-b90f-db1ed91a5913",
   "metadata": {
    "tags": []
   },
   "outputs": [],
   "source": [
    "# Preprocesamiento de datos\n",
    "# Supongamos que queremos usar las columnas 'Fare', 'Pclass', 'Age' y 'Sex' como características\n",
    "X = df[['Pclass','Fare', 'Title_Num', 'Sex_number', 'age_group' ]]\n",
    "\n",
    "\n",
    "# Normalizar las características\n",
    "scaler = StandardScaler()\n",
    "X_scaled = scaler.fit_transform(X)\n",
    "\n",
    "# Definir la variable objetivo\n",
    "y = df['Survived']\n",
    "\n",
    "# Dividir los datos en conjuntos de entrenamiento y prueba\n",
    "X_train, X_test, y_train, y_test = train_test_split(X_scaled, y, test_size=0.2, random_state=42)\n",
    "\n",
    "# Entrenar el modelo de regresión logística\n",
    "model = LogisticRegression()\n",
    "model.fit(X_train, y_train)\n",
    "\n",
    "# Evaluar el modelo\n",
    "y_pred = model.predict(X_test)\n",
    "accuracy = accuracy_score(y_test, y_pred)\n",
    "conf_matrix = confusion_matrix(y_test, y_pred)\n",
    "classification_rep = classification_report(y_test, y_pred)\n",
    "\n",
    "# Imprimir métricas de evaluación\n",
    "print(\"Accuracy:\", accuracy)\n",
    "print(\"Confusion Matrix:\")\n",
    "print(conf_matrix)\n",
    "print(\"Classification Report:\")\n",
    "print(classification_rep)\n"
   ]
  },
  {
   "cell_type": "markdown",
   "id": "4b237814-964e-4b6a-93bb-4631411f4a35",
   "metadata": {},
   "source": [
    "__Resumen del analisis:__ \n",
    "\n",
    "Habia bastante mas hombre que mujeres a bordo, pero luego han sobrevido casi un 70 % de los mujeres y de los hombres solo un 30%. en los primeros dos clasea habia mas hombres que mujeres casi un 20 % mas, sin embargo el 3 clase habia un 70% de hombres . ya en los sobrevivientes cambia bastante la cosa, un 67, 81 y 60% de las tres clases de los sobrevivientes eran mujeres. En la matriz estamos confirmando que el gernero tiene que ver con la  Supervivienca. tambien es obivo cuanto mas pagas en Fare mayor es tu clase, en este caso cerca de cero por la primera clase es 1 y no 3. Ya despues cambiamos valores del Sexo y Titulos de strings a numeros y creamos nuevas Columnas para la Regresion logistica! Tambien hemos metido los Edades en grupos .Tambien hemos echo un Regresion donde no hemos metido los 15 datos de Fare con el median, ni tampoco hemos rellenado los 177 Valores 0 en Age ademas hemos metido SibSp y Parch, pero los resultados han sido similiar!\n",
    "Los datos confirman que siendo mujer había más probabilidades de sobrevivir en cualquier clase, aunque más se han salvado en segunda clase. Los hombres sobrevivieron igual que en la primera y tercera clase, pero menos que en segunda, donde había muchas más mujeres que hombres sobreviviendo. No sabemos exactamente a qué se debe esto.\n"
   ]
  }
 ],
 "metadata": {
  "kernelspec": {
   "display_name": "Python 3 (ipykernel)",
   "language": "python",
   "name": "python3"
  },
  "language_info": {
   "codemirror_mode": {
    "name": "ipython",
    "version": 3
   },
   "file_extension": ".py",
   "mimetype": "text/x-python",
   "name": "python",
   "nbconvert_exporter": "python",
   "pygments_lexer": "ipython3",
   "version": "3.11.7"
  }
 },
 "nbformat": 4,
 "nbformat_minor": 5
}
